{
 "cells": [
  {
   "cell_type": "code",
   "execution_count": 1,
   "metadata": {},
   "outputs": [
    {
     "name": "stdout",
     "output_type": "stream",
     "text": [
      "[[16, 19, 4], [36, 43, 10], [16, 19, 4]]\n"
     ]
    }
   ],
   "source": [
    "#Numpy Kullanilmadan\n",
    "d1 = [[1,2],[3,4],[1,2]] #3*2 matris\n",
    "d2 = [[4,5,2],[6,7,1]] #2*3 matris\n",
    "r1,c1,c2 = len(d1),len(d1[0]),len(d2[0]); #r1 -> 1. Matrisin Satir Sayisi c2 -> 2. Matrisin Sutun Sayisi\n",
    "if (len(d1)==len(d2[0])): #Ilk matrisin satir sayisi ikinci matrisin sutun sayisina esit olmalidir\n",
    "    cMatrisi = [];\n",
    "    for i in range(0,r1): #Carpim matrisinin boyutlariyla olusturulmasi\n",
    "            cMatrisi.append([0]*c2)\n",
    "    for j in range(0,r1):\n",
    "        for k in range(0,c2):\n",
    "            for l in range(0,c1):\n",
    "                cMatrisi[j][k] += d1[j][l] * d2[l][k]\n",
    "else:\n",
    "    print(\"Matrisler carpilamaz\")\n",
    "print(cMatrisi);"
   ]
  },
  {
   "cell_type": "code",
   "execution_count": 2,
   "metadata": {},
   "outputs": [
    {
     "name": "stdout",
     "output_type": "stream",
     "text": [
      "[[16 19  4]\n",
      " [36 43 10]\n",
      " [16 19  4]]\n"
     ]
    }
   ],
   "source": [
    "#Numpy ile\n",
    "import numpy as np\n",
    "nD1,nD2 = np.array(d1),np.array(d2);\n",
    "nCMatris = nD1.dot(nD2);\n",
    "print(nCMatris)"
   ]
  },
  {
   "cell_type": "code",
   "execution_count": 63,
   "metadata": {},
   "outputs": [
    {
     "name": "stdout",
     "output_type": "stream",
     "text": [
      "[[ 0.30150169]\n",
      " [ 0.26307973]\n",
      " [ 0.55909137]]\n"
     ]
    }
   ],
   "source": [
    "#Matris Oluşturma\n",
    "D = np.array([1,2,3]); #Output [1 2 3]\n",
    "D = np.ones(5); #Output [ 1.  1.  1.  1.  1.]\n",
    "D = np.ones ((5,5)); #Output Tüm elemanları 1 olan 5*5 matrisi\n",
    "D = np.zeros(5); #Output [ 0.  0.  0.  0.  0.]\n",
    "D = np.zeros((5,5)); #Output Tüm elemanları 0 olan 5*5 matrisi\n",
    "D = np.arange(5); #Output [0 1 2 3 4]\n",
    "D = np.random.rand(3,1); # Elemanlari 0-1 arasinda random 3*1 matris\n",
    "print(D)"
   ]
  },
  {
   "cell_type": "code",
   "execution_count": 61,
   "metadata": {},
   "outputs": [
    {
     "name": "stdout",
     "output_type": "stream",
     "text": [
      "[[1 2 3]\n",
      " [4 5 6]]\n",
      "[[1 2 3]\n",
      " [4 5 6]]\n",
      "[[1 2 3]\n",
      " [4 5 6]]\n",
      "[1 2 3]\n",
      "[[1]\n",
      " [4]]\n"
     ]
    }
   ],
   "source": [
    "#Matris Seçme\n",
    "D = np.array([[1,2,3],[4,5,6]]); #2D Matris\n",
    "print(D);print(D[0:2]);print(D[0::]) #Output Ayni Matris\n",
    "print(D[::][0]) #Satir Output [1 2 3]\n",
    "print(D[::][:,0:1]) #Sutun Output [[1][4]]"
   ]
  },
  {
   "cell_type": "code",
   "execution_count": 81,
   "metadata": {},
   "outputs": [
    {
     "name": "stdout",
     "output_type": "stream",
     "text": [
      "[[ 5  7]\n",
      " [11 13]]\n",
      "[[-3 -3]\n",
      " [-3 -3]]\n",
      "[[ 4 10]\n",
      " [28 40]]\n",
      "[[ 0.25        0.4       ]\n",
      " [ 0.57142857  0.625     ]]\n",
      "[[18 21]\n",
      " [51 60]]\n",
      "[[1 4]\n",
      " [2 5]]\n",
      "12\n",
      "[5 7]\n",
      "[3 9]\n",
      "[[ 1  4]\n",
      " [16 25]]\n"
     ]
    }
   ],
   "source": [
    "#Matris Tabanlı İşlemler\n",
    "A = np.array([[1,2],[4,5]]);\n",
    "B = np.array([[4,5],[7,8]]);\n",
    "print(A+B); #Output [[5,7][11,13]]\n",
    "print(A-B); #Output [[-3,-3][-3,-3]]\n",
    "print(A*B); #Output [[4,10][28,40]]\n",
    "print(A/B); #Output [[ 0.25 0.4][0.57142857 0.625]]\n",
    "print(A@B); #Output [[5,7][11,13]]\n",
    "print(A.T); #Output [[5,7][11,13]]\n",
    "print(np.sum(A)) #Output 12\n",
    "print(np.sum(A,axis=0)) #Sutun Tabanli: Output [5 7]\n",
    "print(np.sum(A,axis=1)) #Satir Tabanli: Output [3 9]\n",
    "print(np.power(A,2)) #Output [[1 4][16 25]]"
   ]
  },
  {
   "cell_type": "code",
   "execution_count": 106,
   "metadata": {},
   "outputs": [
    {
     "name": "stdout",
     "output_type": "stream",
     "text": [
      "[1 2 3 4 5 6]\n",
      "Boyut:  1\n",
      "[[1 2 3 4 5 6]]\n",
      "Boyut:  2\n",
      "[[1 2 3]\n",
      " [4 5 6]]\n",
      "[[1 2 3 4 5 6]\n",
      " [1 2 3 4 5 6]]\n",
      "6\n",
      "(1, 6)\n",
      "[[ 0.60887372  0.17166969  0.89404032  0.50142463  0.80303372]]\n",
      "(array([0, 0, 0, 0]), array([0, 2, 3, 4]))\n"
     ]
    }
   ],
   "source": [
    "#Kullanışlı Fonksiyonlar\n",
    "A = np.arange(6)+1; #Bir vektör tanımı\n",
    "print(A); #Output : [1 2 3 4 5 6]\n",
    "print(\"Boyut: \",np.ndim(A)); #Output Boyut :1\n",
    "A = A.reshape(1,-1); #Tek satırlı 2D matris, köşeli paranteze dikkat\n",
    "print(A); #Output : [[1 2 3 4 5 6]]\n",
    "print(\"Boyut: \",np.ndim(A));#Output Boyut :2\n",
    "print(A.reshape(2,3));#Output [[1 2 3][4 5 6]\n",
    "print(np.concatenate((A,A),axis=0)); #Output [[1 2 3 4 5 6][1 2 3 4 5 6]]\n",
    "print(np.size(A)); #Output 6\n",
    "print(np.shape(A)); #Output (1,6)\n",
    "B = np.random.rand(1,5);\n",
    "print(B);\n",
    "print(np.nonzero(B>0.5));"
   ]
  },
  {
   "cell_type": "code",
   "execution_count": 30,
   "metadata": {},
   "outputs": [
    {
     "data": {
      "image/png": "[encoded data removed]",
      "text/plain": [
       "<matplotlib.figure.Figure at 0x7fec85b5ec18>"
      ]
     },
     "metadata": {
      "needs_background": "light"
     },
     "output_type": "display_data"
    }
   ],
   "source": [
    "#Temel Hipotez Belirlenme Mantiginin Gorsellestirilmesi\n",
    "import matplotlib.pyplot as plt\n",
    "import matplotlib.patches as mpatches\n",
    "import matplotlib.lines as mlines\n",
    "\n",
    "f, ax = plt.subplots(1)\n",
    "X=[1,2,3];\n",
    "Y=[2,3,4];\n",
    "#Y = 1+X T0 = 1 , T1 = 1\n",
    "T0,T1=1,1;\n",
    "h =[0]*len(X);\n",
    "for i in X:\n",
    "    h[i-1]=T0+T1*X[i-1];\n",
    "    \n",
    "plt.plot(X,Y,'bs',X,h,'r--')\n",
    "plt.xlabel('X (Input)')\n",
    "plt.ylabel('Y (Output)')\n",
    "plt.ylim(bottom=0);\n",
    "\n",
    "\n",
    "red_patch = mpatches.Patch(color='red', label='Hipotez')\n",
    "blue_patch = mpatches.Patch(color='blue', label='Eğitim Verisi')\n",
    "plt.legend(handles=[red_patch,blue_patch])\n",
    "\n",
    "plt.show()"
   ]
  },
  {
   "cell_type": "code",
   "execution_count": 33,
   "metadata": {},
   "outputs": [],
   "source": [
    "#Verilerin Yuklenmesi\n",
    "testData = np.loadtxt(\"ex1data1.txt\",delimiter=',',usecols=range(2));\n",
    "m = len(testData); #Test Veri Adedi\n",
    "X = np.array(testData[:,0]).reshape(m,1);\n",
    "Y = np.array(testData[:,1]).reshape(m,1);"
   ]
  },
  {
   "cell_type": "code",
   "execution_count": 34,
   "metadata": {},
   "outputs": [
    {
     "data": {
      "image/png": "[encoded data removed]",
      "text/plain": [
       "<matplotlib.figure.Figure at 0x7fec90d1afd0>"
      ]
     },
     "metadata": {
      "needs_background": "light"
     },
     "output_type": "display_data"
    }
   ],
   "source": [
    "#Verilerin Plot ile Gosterilmesi\n",
    "plt.plot(X,Y,'ro');\n",
    "plt.xlabel(\"Nüfus(10.000)\");\n",
    "plt.ylabel(\"Kâr(10.000$)\");\n",
    "plt.title('Gıda Sektörünün Nüfusa Dayalı Kâr Dağılımı')\n",
    "plt.show()"
   ]
  },
  {
   "cell_type": "code",
   "execution_count": 35,
   "metadata": {},
   "outputs": [
    {
     "name": "stdout",
     "output_type": "stream",
     "text": [
      "Theta0 = 0 Theta1 = 0 iken Hata Degeri:  32.0727338775\n",
      "Theta0 =-1 Theta1 = 2 iken Hata Degeri:  54.242455082\n",
      "Gradyan İnişe Göre İdeal Theta Değerleri: \n",
      "Theta0: -3.6302914394 Theta1:  1.16636235034\n"
     ]
    },
    {
     "data": {
      "image/png": "[encoded data removed]",
      "text/plain": [
       "<matplotlib.figure.Figure at 0x7fec85a45f28>"
      ]
     },
     "metadata": {
      "needs_background": "light"
     },
     "output_type": "display_data"
    }
   ],
   "source": [
    "#Cost Function ve Gradyan İnişi\n",
    "X = np.concatenate((np.ones(m).reshape(m,1),X),axis=1) #Sutun olarak 1 eklenir\n",
    "\n",
    "theta = np.zeros((2,1));\n",
    "iteration,alpha = 1500,0.01;\n",
    "\n",
    "J = costFunc(theta,X,Y);\n",
    "print(\"Theta0 = 0 Theta1 = 0 iken Hata Degeri: \",J);\n",
    "\n",
    "J = costFunc([-1,2],X,Y);\n",
    "print(\"Theta0 =-1 Theta1 = 2 iken Hata Degeri: \",J);\n",
    "\n",
    "[theta,J_History] = gradientDescent(X,Y,theta,alpha,iteration);\n",
    "print(\"Gradyan İnişe Göre İdeal Theta Değerleri: \\nTheta0:\",*theta[0],\"Theta1: \",*theta[1]);\n",
    "\n",
    "plt.plot(np.arange(1500),J_History)\n",
    "plt.xlabel(\"İterasyon\");\n",
    "plt.ylabel(\"J(Hata Değeri)\");\n",
    "plt.title('Gradyan İnişi Hata Oranı/İterasyon Grafiği')\n",
    "plt.show()"
   ]
  },
  {
   "cell_type": "code",
   "execution_count": 36,
   "metadata": {
    "scrolled": true
   },
   "outputs": [
    {
     "data": {
      "image/png": "[encoded data removed]",
      "text/plain": [
       "<matplotlib.figure.Figure at 0x7fec90c8bba8>"
      ]
     },
     "metadata": {
      "needs_background": "light"
     },
     "output_type": "display_data"
    },
    {
     "name": "stdout",
     "output_type": "stream",
     "text": [
      "Nüfus 20 br olduğunda Kâr Tahmini: 19.6969555673\n"
     ]
    }
   ],
   "source": [
    "#Bulunan Hipotezin Verilerle Beraber Plot ile Gosterimi\n",
    "plt.plot(X[:,1],Y,'ro',X[:,1],X.dot(theta),'-');\n",
    "plt.xlabel(\"Nüfus(10.000)\");\n",
    "plt.ylabel(\"Kâr(10.000$)\");\n",
    "plt.title('Gıda Sektörünün Nüfusa Dayalı Kâr Dağılımı');\n",
    "plt.show();\n",
    "\n",
    "predict1 = np.dot(np.transpose(theta),[[1],[20]]);\n",
    "print(\"Nüfus 20 br olduğunda Kâr Tahmini:\", *predict1[0])"
   ]
  },
  {
   "cell_type": "code",
   "execution_count": 14,
   "metadata": {},
   "outputs": [],
   "source": [
    "#Çoklu Parametrik Yaklasim\n",
    "testData = np.loadtxt(\"ex1data2.txt\",delimiter=',',usecols=range(3));\n",
    "m = len(testData); #Test Veri Adedi\n",
    "X = np.array(testData[:,[0,1]]).reshape(m,2);\n",
    "Y = np.array(testData[:,2]).reshape(m,1);"
   ]
  },
  {
   "cell_type": "code",
   "execution_count": 15,
   "metadata": {},
   "outputs": [],
   "source": [
    "[X,mu,sigma] = featureNormalize(X); #Verilerin Daha Küçük Sayılarla İfade Edilmesi\n",
    "X = np.concatenate((np.ones(m).reshape(m,1),X),axis=1) #Sutun olarak 1 eklenir"
   ]
  },
  {
   "cell_type": "code",
   "execution_count": 16,
   "metadata": {},
   "outputs": [
    {
     "name": "stdout",
     "output_type": "stream",
     "text": [
      "Gradyan İnişe Göre İdeal Theta Değerleri: \n",
      "Theta0: 334302.063993 Theta1:  99411.4494736 Theta2:  3267.01285407\n"
     ]
    },
    {
     "data": {
      "image/png": "[encoded data removed]",
      "text/plain": [
       "<matplotlib.figure.Figure at 0x7fec90c49c18>"
      ]
     },
     "metadata": {
      "needs_background": "light"
     },
     "output_type": "display_data"
    }
   ],
   "source": [
    "iteration,alpha = 400,0.01;\n",
    "theta = np.zeros((3,1));\n",
    "\n",
    "[theta,J_History] = gradientDescentMulti(X,Y,theta,alpha,iteration);\n",
    "print(\"Gradyan İnişe Göre İdeal Theta Değerleri: \\nTheta0:\",*theta[0],\"Theta1: \",*theta[1],\"Theta2: \",*theta[2]);\n",
    "plt.plot(np.arange(400),J_History)\n",
    "plt.xlabel(\"İterasyon\");\n",
    "plt.ylabel(\"J(Sapma Değeri)\");\n",
    "plt.title('Gradyan İnişi Hata Oranı/İterasyon Grafiği')\n",
    "plt.show()"
   ]
  },
  {
   "cell_type": "code",
   "execution_count": 17,
   "metadata": {},
   "outputs": [
    {
     "name": "stdout",
     "output_type": "stream",
     "text": [
      "1650 m2lik 3 yatak odalı evin tahmin edilen fiyatı:  289221.547371 $\n"
     ]
    }
   ],
   "source": [
    "d = [1650,3];\n",
    "d = np.array( [(d - mu) / sigma] );\n",
    "d =np.concatenate([np.ones((1,1)),d],axis=1);\n",
    "price = (d @ theta)[0];\n",
    "print(\"1650 m2lik 3 yatak odalı evin tahmin edilen fiyatı: \",*price, \"$\")"
   ]
  },
  {
   "cell_type": "code",
   "execution_count": 18,
   "metadata": {},
   "outputs": [
    {
     "name": "stdout",
     "output_type": "stream",
     "text": [
      "Belirleme Katsayısı: 0.702031553784\n",
      "Intercept(Theta0): [-3.89578088]\n",
      "Eğim(Theta1): [[ 1.19303364]]\n",
      "20br Nüfusa Gelen Kâr:  [[ 19.96489201]]\n"
     ]
    }
   ],
   "source": [
    "#Sklearn Kütüphanesi Kullanılarak Yapılan Lineer Regresyon\n",
    "from sklearn.linear_model import LinearRegression\n",
    "testData = np.loadtxt(\"ex1data1.txt\",delimiter=',',usecols=range(2));\n",
    "m = len(testData); #Test Veri Adedi\n",
    "X = np.array(testData[:,0]).reshape(m,1)\n",
    "Y = np.array(testData[:,1]).reshape(m,1)\n",
    "model = LinearRegression().fit(X,Y);\n",
    "r_sq = model.score(X, Y);\n",
    "print('Belirleme Katsayısı:', r_sq);\n",
    "print('Intercept(Theta0):', model.intercept_);\n",
    "print('Eğim(Theta1):', model.coef_);\n",
    "\n",
    "y_pred = model.predict(20);\n",
    "print('20br Nüfusa Gelen Kâr: ', y_pred);"
   ]
  },
  {
   "cell_type": "code",
   "execution_count": 19,
   "metadata": {},
   "outputs": [
    {
     "name": "stdout",
     "output_type": "stream",
     "text": [
      "Belirleme Katsayısı (Determination of Coef): 0.732945018029\n",
      "Sabit (Intercept) (Theta0): [ 89597.9095428]\n",
      "Eğim (Slope) (Theta1,Theta2): [[  139.21067402 -8738.01911233]]\n",
      "1650 m2lik 3 yatak odalı evin tahmin edilen fiyatı:  293081.464335 $\n"
     ]
    }
   ],
   "source": [
    "#Sklearn Kütüphanesi Kullanılarak Yapılan Çok Parametreli Lineer Regresyon\n",
    "testData = np.loadtxt(\"ex1data2.txt\",delimiter=',',usecols=range(3));\n",
    "m = len(testData); #Test Veri Adedi\n",
    "X = np.array(testData[:,[0,1]]).reshape(m,2);\n",
    "Y = np.array(testData[:,2]).reshape(m,1);\n",
    "\n",
    "model = LinearRegression().fit(X,Y);\n",
    "r_sq = model.score(X, Y);\n",
    "print('Belirleme Katsayısı (Determination of Coef):', r_sq);\n",
    "print('Sabit (Intercept) (Theta0):', model.intercept_);\n",
    "print('Eğim (Slope) (Theta1,Theta2):', model.coef_);\n",
    "\n",
    "# y_pred = model.intercept_ + np.sum(model.coef_ * x, axis=1)\n",
    "y_pred = model.predict([[1650,3]]);\n",
    "print('1650 m2lik 3 yatak odalı evin tahmin edilen fiyatı: ', *y_pred[0] ,\"$\");"
   ]
  },
  {
   "cell_type": "code",
   "execution_count": 125,
   "metadata": {},
   "outputs": [
    {
     "name": "stdout",
     "output_type": "stream",
     "text": [
      "Belirleme Katsayısı (Determination of Coef): 1.0\n",
      "Sabit (Intercept) (Theta0): [ -1.47792889e-12]\n",
      "Eğim (Slope) (Theta1,Theta2,Theta3): [[  1.13398926e-13  -1.11022302e-15   1.00000000e+00]]\n",
      "[[  1.00000000e+00   1.00000000e+00]\n",
      " [  8.00000000e+00   8.00000000e+00]\n",
      " [  2.70000000e+01   2.70000000e+01]\n",
      " [  6.40000000e+01   6.40000000e+01]\n",
      " [  1.25000000e+02   1.25000000e+02]\n",
      " [  2.16000000e+02   2.16000000e+02]\n",
      " [  3.43000000e+02   3.43000000e+02]\n",
      " [  5.12000000e+02   5.12000000e+02]\n",
      " [  7.29000000e+02   7.29000000e+02]\n",
      " [  1.00000000e+03   1.00000000e+03]\n",
      " [  1.33100000e+03   1.33100000e+03]\n",
      " [  1.72800000e+03   1.72800000e+03]\n",
      " [  2.19700000e+03   2.19700000e+03]\n",
      " [  2.74400000e+03   2.74400000e+03]\n",
      " [  3.37500000e+03   3.37500000e+03]]\n"
     ]
    }
   ],
   "source": [
    "#Polinomsal Yaklaşım\n",
    "from sklearn.preprocessing import PolynomialFeatures\n",
    "X = (np.arange(15)+1).reshape(-1,1); #Polinomsal yaklasim icin 2D gerekir\n",
    "Y = np.power(X,3);\n",
    "\n",
    "Xt = PolynomialFeatures(degree=3, include_bias=False).fit_transform(X);\n",
    "\n",
    "model = LinearRegression().fit(Xt,Y);\n",
    "\n",
    "r_sq = model.score(Xt, Y)\n",
    "intercept, coefficients = model.intercept_, model.coef_\n",
    "\n",
    "print('Belirleme Katsayısı (Determination of Coef):', r_sq);\n",
    "print('Sabit (Intercept) (Theta0):', model.intercept_);\n",
    "print('Eğim (Slope) (Theta1,Theta2,Theta3):', model.coef_);\n",
    "\n",
    "y_pred = model.predict(Xt);\n",
    "cmp = np.concatenate((Y,y_pred),axis = 1);\n",
    "print(cmp);"
   ]
  },
  {
   "cell_type": "code",
   "execution_count": 11,
   "metadata": {},
   "outputs": [],
   "source": [
    "def featureNormalize(X):\n",
    "    X_norm = X;\n",
    "    mu = np.mean((X),axis=0);\n",
    "    sigma = np.std((X),axis=0);\n",
    "    X_norm = (X_norm-mu)/sigma;\n",
    "    return [X_norm,mu,sigma];"
   ]
  },
  {
   "cell_type": "code",
   "execution_count": 10,
   "metadata": {},
   "outputs": [],
   "source": [
    "def costFunc(theta,X,Y):\n",
    "    #J = (1/(2*m)) * sum(((theta(1)+theta(2)*X(:,2))-y).^2)\n",
    "    J = (1/(2*m)) * np.sum( ( np.power( ( (theta[0]+np.sum(theta[1])*X[:,1])-Y[:,0]), 2) ) );\n",
    "    return J;"
   ]
  },
  {
   "cell_type": "code",
   "execution_count": 9,
   "metadata": {},
   "outputs": [],
   "source": [
    "def costFuncMulti(theta,X,Y):\n",
    "    J = (1/(2*m)) * np.sum( ( np.power( (X@theta) - Y,2 ) ) );\n",
    "    return J;"
   ]
  },
  {
   "cell_type": "code",
   "execution_count": 8,
   "metadata": {},
   "outputs": [],
   "source": [
    "def gradientDescent(X,Y,theta,alpha,num_iters):\n",
    "    m = len(Y[:,0]);\n",
    "    J_history = np.zeros((num_iters,1))\n",
    "    for itr in range(0,num_iters):\n",
    "        temp1 =  theta[0] - alpha*(1/m)* np.sum((theta[0]+theta[1]*X[:,1])-Y[:,0]);\n",
    "        temp2 =  theta[1] - alpha*(1/m)* ((theta[0]+theta[1]*X[:,1])-Y[:,0]).dot(X[:,1]);\n",
    "        theta[0] = temp1;\n",
    "        theta[1] = temp2;\n",
    "        J_history[itr] = costFunc(theta,X,Y);\n",
    "    return [theta,J_history];"
   ]
  },
  {
   "cell_type": "code",
   "execution_count": 7,
   "metadata": {},
   "outputs": [],
   "source": [
    "def gradientDescentMulti(X,Y,theta,alpha,num_iters):\n",
    "    m = len(Y[:,0]);\n",
    "    J_history = np.zeros((num_iters,1))\n",
    "    for itr in range(0,num_iters):\n",
    "        delta = (1/m) * np.sum((X*(X@theta -Y)),axis=0);\n",
    "        theta = (theta.T - (alpha*delta)).reshape(len(theta),1);\n",
    "        J_history[itr] = costFuncMulti(theta,X,Y);\n",
    "    return [theta,J_history];"
   ]
  }
 ],
 "metadata": {
  "kernelspec": {
   "display_name": "Python 3",
   "language": "python",
   "name": "python3"
  },
  "language_info": {
   "codemirror_mode": {
    "name": "ipython",
    "version": 3
   },
   "file_extension": ".py",
   "mimetype": "text/x-python",
   "name": "python",
   "nbconvert_exporter": "python",
   "pygments_lexer": "ipython3",
   "version": "3.6.9"
  }
 },
 "nbformat": 4,
 "nbformat_minor": 2
}
